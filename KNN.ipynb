{
 "cells": [
  {
   "cell_type": "code",
   "execution_count": null,
   "id": "8e77d182-584f-4189-8f94-83dc2efe0367",
   "metadata": {},
   "outputs": [],
   "source": [
    "import numpy as np\n",
    "from sklearn.datasets import load_iris # набор данных Ирисы Фишера\n",
    "from sklearn.datasets import load_digits # набор данных Mnist\n",
    "from collections import Counter\n",
    "iris_dataset = load_iris()\n",
    "digits_dataset = load_digits()"
   ]
  },
  {
   "cell_type": "code",
   "execution_count": null,
   "id": "7f4861ad-4620-46ad-9836-cfb450c78d14",
   "metadata": {
    "scrolled": true
   },
   "outputs": [],
   "source": [
    "iris_dataset.keys()\n",
    "digits_dataset.keys()"
   ]
  },
  {
   "cell_type": "code",
   "execution_count": null,
   "id": "31f0279f-9a71-469b-9d09-415be814c49b",
   "metadata": {
    "scrolled": true
   },
   "outputs": [],
   "source": [
    "print(iris_dataset.feature_names)"
   ]
  },
  {
   "cell_type": "code",
   "execution_count": null,
   "id": "1b18c161-79e9-4623-9e99-3980d0172aa4",
   "metadata": {},
   "outputs": [],
   "source": [
    "from sklearn.model_selection import train_test_split\n"
   ]
  },
  {
   "cell_type": "code",
   "execution_count": null,
   "id": "adcec70d-9fb6-4b8b-892c-34954041aa36",
   "metadata": {},
   "outputs": [],
   "source": [
    "X_train, X_test, Y_train, Y_test = train_test_split(iris_dataset['data'], iris_dataset['target'], \n",
    "                                                    random_state = 0)"
   ]
  },
  {
   "cell_type": "code",
   "execution_count": null,
   "id": "92f66fe5-7768-4550-ae2c-e80bbbe93fe9",
   "metadata": {
    "scrolled": true
   },
   "outputs": [],
   "source": [
    "print(X_train.shape)\n",
    "print(X_test.shape)\n",
    "print(Y_train.shape)\n",
    "print(Y_test.shape)"
   ]
  },
  {
   "cell_type": "code",
   "execution_count": null,
   "id": "fe7cb028-087d-441d-93e8-c4e5ad951401",
   "metadata": {},
   "outputs": [],
   "source": [
    "class KNN:\n",
    "\n",
    "    def __init__(self, k):  #конструктор\n",
    "        self.k = k\n",
    "\n",
    "    def compute_distance(self, x1, x2):\n",
    "        return np.sqrt(np.sum((x1-x2)**2))\n",
    "\n",
    "    def fit(self, X_train, Y_train):\n",
    "        self.X_train = X_train\n",
    "        self.Y_train = Y_train\n",
    "\n",
    "    def find_nearest(self, x):\n",
    "        distances = [self.compute_distance(x, x_train) for x_train in self.X_train]\n",
    "        k_indices = np.argsort(distances)[:self.k]\n",
    "        k_nearest_labels = [self.Y_train[i] for i in k_indices]\n",
    "        result = Counter(k_nearest_labels).most_common(1)\n",
    "        return result[0][0]\n",
    "\n",
    "    def predict(self, data):\n",
    "        predictions = [self.find_nearest(x) for x in data]\n",
    "        return np.array(predictions)  \n",
    "\n",
    "    def accuracy(self,... , ...):\n",
    "        \n",
    "    "
   ]
  },
  {
   "cell_type": "code",
   "execution_count": null,
   "id": "0f1eb610-e7e1-4aa8-915a-e89083745487",
   "metadata": {},
   "outputs": [],
   "source": [
    "knn = KNN(k=1)\n",
    "knn.fit(X_train, Y_train)"
   ]
  },
  {
   "cell_type": "code",
   "execution_count": null,
   "id": "f2693495-4866-4d57-aa7c-12a1c2aac4e8",
   "metadata": {},
   "outputs": [],
   "source": [
    "predictions = knn.predict(X_test)"
   ]
  },
  {
   "cell_type": "code",
   "execution_count": null,
   "id": "e4930bac-5cb4-4ee8-95be-1409de660bfe",
   "metadata": {},
   "outputs": [],
   "source": [
    "print(f\"Test: {Y_test}\")\n",
    "print(f\"Pred: {predictions}\")"
   ]
  },
  {
   "cell_type": "code",
   "execution_count": null,
   "id": "50a7d42b-7451-4f33-8b52-c0c70a97824d",
   "metadata": {},
   "outputs": [],
   "source": [
    "TO:DO\n",
    "1) Запустить код\n",
    "2) Добавить и протестировать формулу вычисления Manhattan Distance\n",
    "3) Написать метод подсчета точности accuracy\n",
    "4) Протестировать код на наборе данных Mnist"
   ]
  }
 ],
 "metadata": {
  "kernelspec": {
   "display_name": "Python 3 (ipykernel)",
   "language": "python",
   "name": "python3"
  },
  "language_info": {
   "codemirror_mode": {
    "name": "ipython",
    "version": 3
   },
   "file_extension": ".py",
   "mimetype": "text/x-python",
   "name": "python",
   "nbconvert_exporter": "python",
   "pygments_lexer": "ipython3",
   "version": "3.12.4"
  }
 },
 "nbformat": 4,
 "nbformat_minor": 5
}
